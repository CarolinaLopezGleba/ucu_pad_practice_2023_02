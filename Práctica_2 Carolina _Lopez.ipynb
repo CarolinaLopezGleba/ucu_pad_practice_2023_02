{
 "cells": [
  {
   "cell_type": "markdown",
   "metadata": {},
   "source": [
    "# Práctica 2 - Carolina López Gleba \n",
    "\n",
    "Para esta tarea, veremos los datos de vacunas de 2017. El archivo con estos datos está en /data/NISPUF17.csv. Para conocer los nombres de las variables de los datos tienes disponible una guía de usuarios de datos en /data/NIS-PUF17-DUG.pdf."
   ]
  },
  {
   "cell_type": "markdown",
   "metadata": {},
   "source": [
    "## Pregunta 1\n",
    "\n",
    "Escribe una función llamada proportion_of_education que devuelva la proporción de niños en el dataset que tuvieron una madre con los niveles de educación: igual a menor de secundaria (<12), secundaria (12), mayor que secundaria pero sin ser universitaria graduada (>12) y con título universitario.\n",
    "\n",
    "Esta función debería devolver un diccionario en forma de (use los números correctos, no redondee los números):\n",
    "\n",
    "{\"menor que  secundaria\": 0.2,\n",
    " \"secundaria\": 0.4,\n",
    " \"mayor a secundaria pero no universitaria\": 0.2,\n",
    " \"universitaria\": 0.2}"
   ]
  },
  {
   "cell_type": "code",
   "execution_count": 17,
   "metadata": {},
   "outputs": [
    {
     "name": "stdout",
     "output_type": "stream",
     "text": [
      "Diccionario de proporciones en la columna 'educ1':\n",
      "{'College Grad': 0.47974705779026877, '12 years, non-college grad': 0.24588090637625154, '12 years': 0.172352011241876, '< 12 years': 0.10202002459160373}\n"
     ]
    }
   ],
   "source": [
    "import pandas as pd\n",
    "\n",
    "def propotion_of_education():\n",
    "    # Lee el archivo CSV\n",
    "    df = pd.read_csv('NISPUF17.csv')\n",
    "\n",
    "    # Valores numéricos a nombres\n",
    "    nivel_educacion_madres = {\n",
    "        1: '< 12 years',\n",
    "        2: '12 years',\n",
    "        3: '12 years, non-college grad',\n",
    "        4: 'College Grad'\n",
    "    }\n",
    "\n",
    "    # Realiza el conteo de valores\n",
    "    educ1_counts = df['EDUC1'].value_counts()\n",
    "\n",
    "    # Calcula la proporción de cada valor\n",
    "    educ1_proportions = educ1_counts / educ1_counts.sum()\n",
    "\n",
    "    # Convierte los valores a nombres\n",
    "    propotion_of_education = educ1_proportions.rename(index=nivel_educacion_madres).to_dict()\n",
    "\n",
    "    # Diccionario\n",
    "    return propotion_of_education\n",
    "\n",
    "# Llamar a la función y almacenar el resultado en una variable\n",
    "resultado = propotion_of_education()\n",
    "\n",
    "# Imprime el diccionario\n",
    "print(\"Diccionario de proporciones en la columna 'educ1':\")\n",
    "print(resultado)"
   ]
  },
  {
   "cell_type": "markdown",
   "metadata": {},
   "source": [
    "## Pregunta 2\n",
    "Exploremos la relación entre ser alimentado con leche materna (fed breast milk) cuando era niño y recibir una vacuna contra la influenza estacional (seasonal influenza) de un proveedor de atención médica.\n",
    "\n",
    "Devuelva una tupla del número promedio de vacunas contra la influenza para aquellos niños que sabemos que recibieron leche materna cuando eran niños y aquellos que sabemos que no."
   ]
  },
  {
   "cell_type": "markdown",
   "metadata": {},
   "source": [
    "## Pregunta 3\n",
    "Sería interesante ver si hay evidencia de un vínculo entre la efectividad de la vacuna y el sexo del niño. Calcule el ratio entre el número de niños que contrajeron varicela (chickenpox) pero que fueron vacunados contra ella (al menos una dosis) versus los que fueron vacunados y no contrajeron varicela.\n",
    "\n",
    "Devuelve los resultados por sexo.\n",
    "\n",
    "Esta función debería devolver un diccionario en forma de:\n",
    "\n",
    "{\"male\": 0.2, \"female\": 0.4}\n",
    "Nota: Para ayudar en la verificación, el valor de chickenpox_by_sex()['female'] comienza con los dígitos 0.0077."
   ]
  }
 ],
 "metadata": {
  "kernelspec": {
   "display_name": "Python 3",
   "language": "python",
   "name": "python3"
  },
  "language_info": {
   "codemirror_mode": {
    "name": "ipython",
    "version": 3
   },
   "file_extension": ".py",
   "mimetype": "text/x-python",
   "name": "python",
   "nbconvert_exporter": "python",
   "pygments_lexer": "ipython3",
   "version": "3.11.3"
  },
  "orig_nbformat": 4
 },
 "nbformat": 4,
 "nbformat_minor": 2
}
